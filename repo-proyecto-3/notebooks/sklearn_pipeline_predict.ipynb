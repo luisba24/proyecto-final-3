{
 "cells": [
  {
   "cell_type": "code",
   "execution_count": 1,
   "metadata": {},
   "outputs": [],
   "source": [
    "import pandas as pd\n",
    "import pickle"
   ]
  },
  {
   "cell_type": "code",
   "execution_count": 9,
   "metadata": {},
   "outputs": [],
   "source": [
    "from datetime import datetime\n",
    "import os"
   ]
  },
  {
   "cell_type": "code",
   "execution_count": 2,
   "metadata": {},
   "outputs": [],
   "source": [
    "# Carga del pipeline \n",
    "with open('../artifacts/pipeline.pkl', 'rb') as  f:\n",
    "    restaurant_model_pipeline = pickle.load(f)\n",
    "\n",
    "# Cargar configuraciones de ingeniería de características\n",
    "with open('../artifacts/feature_eng_configs.pkl', 'rb') as f:\n",
    "    feature_eng_configs = pickle.load(f)\n",
    "\n",
    "# Cargar el modelo guardado\n",
    "with open('../models/random_forest_v1.pkl', 'rb') as f:\n",
    "    modelo = pickle.load(f)\n"
   ]
  },
  {
   "cell_type": "code",
   "execution_count": 3,
   "metadata": {},
   "outputs": [],
   "source": [
    "# Cargar el dataset de prueba\n",
    "data_test = pd.read_csv('../data/raw/test.csv')"
   ]
  },
  {
   "cell_type": "code",
   "execution_count": 5,
   "metadata": {},
   "outputs": [],
   "source": [
    "data_test.drop([\"CustomerID\", \"PreferredCuisine\", \"Gender\", \"TimeOfVisit\", \"AverageSpend\", \"Age\"], axis=1, inplace=True)\n",
    "\n",
    "# codificación de variable MealType\n",
    "data_test['MealType'] = pd.get_dummies(data_test['MealType'], drop_first=True).astype(int)\n",
    "\n",
    "# codificación de Variables VisitFrequency y DiningOccasion\n",
    "data_test['VisitFrequency'] = data_test['VisitFrequency'].map(feature_eng_configs['visit_freq_counts'])\n",
    "data_test['DiningOccasion'] = data_test['DiningOccasion'].map(feature_eng_configs['dining_occ_counts'])"
   ]
  },
  {
   "cell_type": "code",
   "execution_count": 6,
   "metadata": {},
   "outputs": [],
   "source": [
    "# Cargar el scaler estándar si fue usado previamente\n",
    "with open('../artifacts/std_scaler.pkl', 'rb') as f:\n",
    "    std_scaler = pickle.load(f)"
   ]
  },
  {
   "cell_type": "code",
   "execution_count": 7,
   "metadata": {},
   "outputs": [],
   "source": [
    "# Estandarizar las variables del dataset de prueba\n",
    "X_data_test_std = std_scaler.transform(data_test)"
   ]
  },
  {
   "cell_type": "code",
   "execution_count": 17,
   "metadata": {},
   "outputs": [],
   "source": [
    "# Realizar predicciones\n",
    "model_predicts = modelo.predict(X_data_test_std)"
   ]
  },
  {
   "cell_type": "code",
   "execution_count": 18,
   "metadata": {},
   "outputs": [],
   "source": [
    "# Crear un DataFrame con las predicciones\n",
    "predictions_df = pd.DataFrame(model_predicts, columns=[\"Prediction\"])"
   ]
  },
  {
   "cell_type": "code",
   "execution_count": 19,
   "metadata": {},
   "outputs": [],
   "source": [
    "# Obtener la fecha y hora actual en el formato especificado\n",
    "timestamp = datetime.now().strftime('%Y-%m-%d-%H-%M-%S')"
   ]
  },
  {
   "cell_type": "code",
   "execution_count": 20,
   "metadata": {},
   "outputs": [],
   "source": [
    "# Ruta de la subcarpeta donde se almacenarán las predicciones\n",
    "output_folder = '../data/predictions'\n",
    "os.makedirs(output_folder, exist_ok=True)  # Crear la carpeta si no existe"
   ]
  },
  {
   "cell_type": "code",
   "execution_count": 21,
   "metadata": {},
   "outputs": [
    {
     "name": "stdout",
     "output_type": "stream",
     "text": [
      "Predicciones guardadas en: ../data/predictions\\predictions-2024-12-17-19-58-52.csv\n"
     ]
    }
   ],
   "source": [
    "# Nombre del archivo basado en la fecha y hora\n",
    "output_file = os.path.join(output_folder, f'predictions-{timestamp}.csv')\n",
    "\n",
    "# Guardar las predicciones en un archivo CSV\n",
    "predictions_df.to_csv(output_file, index=False)\n",
    "print(f\"Predicciones guardadas en: {output_file}\")"
   ]
  },
  {
   "cell_type": "code",
   "execution_count": 22,
   "metadata": {},
   "outputs": [
    {
     "name": "stdout",
     "output_type": "stream",
     "text": [
      "Archivo de predicciones registrado en MLflow: ../data/predictions\\predictions-2024-12-17-19-58-52.csv\n"
     ]
    }
   ],
   "source": [
    "import mlflow\n",
    "\n",
    "# Iniciar un experimento en MLflow\n",
    "mlflow.set_experiment(\"Restaurant Predictions\")\n",
    "\n",
    "# Registrar el artefacto en MLflow\n",
    "with mlflow.start_run():\n",
    "    # Guardar el archivo de predicciones en MLflow\n",
    "    mlflow.log_artifact(output_file, artifact_path=\"predictions\")\n",
    "    print(f\"Archivo de predicciones registrado en MLflow: {output_file}\")\n"
   ]
  }
 ],
 "metadata": {
  "kernelspec": {
   "display_name": "venv-bank-churning-B",
   "language": "python",
   "name": "python3"
  },
  "language_info": {
   "codemirror_mode": {
    "name": "ipython",
    "version": 3
   },
   "file_extension": ".py",
   "mimetype": "text/x-python",
   "name": "python",
   "nbconvert_exporter": "python",
   "pygments_lexer": "ipython3",
   "version": "3.11.10"
  }
 },
 "nbformat": 4,
 "nbformat_minor": 2
}
