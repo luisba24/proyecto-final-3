{
 "cells": [
  {
   "cell_type": "code",
   "execution_count": 12,
   "metadata": {},
   "outputs": [
    {
     "name": "stdout",
     "output_type": "stream",
     "text": [
      "Los datasets balanceados se han guardado como 'train.csv' y 'test.csv'\n"
     ]
    }
   ],
   "source": [
    "import pandas as pd\n",
    "from sklearn.model_selection import train_test_split\n",
    "from sklearn.utils import resample\n",
    "\n",
    "# Cargar el dataset\n",
    "df = pd.read_csv('restaurante.csv')\n",
    "\n",
    "# Identificar la columna target y las clases\n",
    "target_column = 'HighSatisfaction'  # Cambia esto por el nombre de tu columna target\n",
    "\n",
    "# Separar las clases mayoritaria y minoritaria\n",
    "majority_class = df[df[target_column] == df[target_column].value_counts().idxmax()]\n",
    "minority_class = df[df[target_column] != df[target_column].value_counts().idxmax()]\n",
    "\n",
    "# Sobremuestreo de la clase minoritaria\n",
    "minority_class_oversampled = resample(minority_class,\n",
    "                                      replace=True,  # Sobremuestreo\n",
    "                                      n_samples=len(majority_class),  # Igualar tamaño con clase mayoritaria\n",
    "                                      random_state=42)  # Para reproducibilidad\n",
    "\n",
    "# Combinar clases balanceadas\n",
    "df_balanced = pd.concat([majority_class, minority_class_oversampled])\n",
    "\n",
    "# Mezclar los datos\n",
    "df_balanced = df_balanced.sample(frac=1, random_state=42).reset_index(drop=True)\n",
    "\n",
    "# Dividir en train y test\n",
    "train_df, test_df = train_test_split(df_balanced, test_size=0.3, random_state=42, stratify=df_balanced[target_column])\n",
    "\n",
    "# Guardar en archivos CSV\n",
    "train_df.to_csv('train.csv', index=False)\n",
    "test_df.to_csv('test.csv', index=False)\n",
    "\n",
    "print(\"Los datasets balanceados se han guardado como 'train.csv' y 'test.csv'\")\n"
   ]
  }
 ],
 "metadata": {
  "kernelspec": {
   "display_name": "venv-bank-churning-B",
   "language": "python",
   "name": "python3"
  },
  "language_info": {
   "codemirror_mode": {
    "name": "ipython",
    "version": 3
   },
   "file_extension": ".py",
   "mimetype": "text/x-python",
   "name": "python",
   "nbconvert_exporter": "python",
   "pygments_lexer": "ipython3",
   "version": "3.11.10"
  }
 },
 "nbformat": 4,
 "nbformat_minor": 2
}
